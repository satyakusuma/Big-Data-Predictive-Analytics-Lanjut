{
  "nbformat": 4,
  "nbformat_minor": 0,
  "metadata": {
    "colab": {
      "provenance": [],
      "mount_file_id": "168mdxnNft93o25N4HXbHwRHwY_RhYu2Y",
      "authorship_tag": "ABX9TyPI6QVcxIX10+08S4oKxXTU",
      "include_colab_link": true
    },
    "kernelspec": {
      "name": "python3",
      "display_name": "Python 3"
    },
    "language_info": {
      "name": "python"
    }
  },
  "cells": [
    {
      "cell_type": "markdown",
      "metadata": {
        "id": "view-in-github",
        "colab_type": "text"
      },
      "source": [
        "<a href=\"https://colab.research.google.com/github/satyakusuma/Big-Data-Predictive-Analytics-Lanjut/blob/main/Final_Project.ipynb\" target=\"_parent\"><img src=\"https://colab.research.google.com/assets/colab-badge.svg\" alt=\"Open In Colab\"/></a>"
      ]
    },
    {
      "cell_type": "markdown",
      "source": [
        "# **MENYIAPKAN ENVIRONMENT**"
      ],
      "metadata": {
        "id": "f1snOL5IG0fN"
      }
    },
    {
      "cell_type": "code",
      "source": [
        "from google.colab import drive\n",
        "drive.mount('/content/drive')"
      ],
      "metadata": {
        "colab": {
          "base_uri": "https://localhost:8080/"
        },
        "id": "v35j4WAaC_I1",
        "outputId": "6da643c7-ce8c-409d-e1c3-bf72f4b02d56"
      },
      "execution_count": 1,
      "outputs": [
        {
          "output_type": "stream",
          "name": "stdout",
          "text": [
            "Drive already mounted at /content/drive; to attempt to forcibly remount, call drive.mount(\"/content/drive\", force_remount=True).\n"
          ]
        }
      ]
    },
    {
      "cell_type": "code",
      "execution_count": 4,
      "metadata": {
        "id": "Uj1i5BfzGafM"
      },
      "outputs": [],
      "source": [
        "!apt-get install openjdk-8-jdk-headless -qq > /dev/null #Install Open Java Development Kit"
      ]
    },
    {
      "cell_type": "code",
      "source": [
        "!tar xf /content/drive/MyDrive/spark-3.0.0-bin-hadoop3.2.tgz #Ekstrak Spark "
      ],
      "metadata": {
        "id": "NkbDDoPVG5FL"
      },
      "execution_count": 5,
      "outputs": []
    },
    {
      "cell_type": "code",
      "source": [
        "!pip install -q findspark #Install findspark"
      ],
      "metadata": {
        "id": "OIx1SX_oG_XL"
      },
      "execution_count": 6,
      "outputs": []
    },
    {
      "cell_type": "code",
      "source": [
        "#Menyiapkan OS\n",
        "import os\n",
        "os.environ[\"JAVA_HOME\"] = \"/usr/lib/jvm/java-8-openjdk-amd64\"\n",
        "os.environ[\"SPARK_HOME\"] = \"/content/spark-3.0.0-bin-hadoop3.2\""
      ],
      "metadata": {
        "id": "S82gZrKHHCPW"
      },
      "execution_count": 7,
      "outputs": []
    },
    {
      "cell_type": "code",
      "source": [
        "!pip install pyspark #Install pyspark"
      ],
      "metadata": {
        "colab": {
          "base_uri": "https://localhost:8080/"
        },
        "id": "zPE0inoBHFpW",
        "outputId": "17b13f95-dfb0-4262-b7ea-05cb5250da38"
      },
      "execution_count": 8,
      "outputs": [
        {
          "output_type": "stream",
          "name": "stdout",
          "text": [
            "Looking in indexes: https://pypi.org/simple, https://us-python.pkg.dev/colab-wheels/public/simple/\n",
            "Collecting pyspark\n",
            "  Downloading pyspark-3.3.1.tar.gz (281.4 MB)\n",
            "\u001b[2K     \u001b[90m━━━━━━━━━━━━━━━━━━━━━━━━━━━━━━━━━━━━━━━\u001b[0m \u001b[32m281.4/281.4 MB\u001b[0m \u001b[31m4.8 MB/s\u001b[0m eta \u001b[36m0:00:00\u001b[0m\n",
            "\u001b[?25h  Preparing metadata (setup.py) ... \u001b[?25l\u001b[?25hdone\n",
            "Collecting py4j==0.10.9.5\n",
            "  Downloading py4j-0.10.9.5-py2.py3-none-any.whl (199 kB)\n",
            "\u001b[2K     \u001b[90m━━━━━━━━━━━━━━━━━━━━━━━━━━━━━━━━━━━━━━\u001b[0m \u001b[32m199.7/199.7 KB\u001b[0m \u001b[31m12.5 MB/s\u001b[0m eta \u001b[36m0:00:00\u001b[0m\n",
            "\u001b[?25hBuilding wheels for collected packages: pyspark\n",
            "  Building wheel for pyspark (setup.py) ... \u001b[?25l\u001b[?25hdone\n",
            "  Created wheel for pyspark: filename=pyspark-3.3.1-py2.py3-none-any.whl size=281845512 sha256=ec6de0d0adb40771921973b65d276acadecbc9d0bcb451e58ee862a9bce8b32f\n",
            "  Stored in directory: /root/.cache/pip/wheels/43/dc/11/ec201cd671da62fa9c5cc77078235e40722170ceba231d7598\n",
            "Successfully built pyspark\n",
            "Installing collected packages: py4j, pyspark\n",
            "Successfully installed py4j-0.10.9.5 pyspark-3.3.1\n"
          ]
        }
      ]
    },
    {
      "cell_type": "code",
      "source": [
        "#Membuat SparkSession\n",
        "from pyspark.sql import SparkSession\n",
        "\n",
        "spark = SparkSession.builder.appName('finalProject').getOrCreate()\n",
        "sc = spark.sparkContext\n",
        "sc.version"
      ],
      "metadata": {
        "colab": {
          "base_uri": "https://localhost:8080/",
          "height": 35
        },
        "id": "cYKIFiQuHGdS",
        "outputId": "85a0103a-0721-4163-821e-6dc82cdea023"
      },
      "execution_count": 1,
      "outputs": [
        {
          "output_type": "execute_result",
          "data": {
            "text/plain": [
              "'3.3.1'"
            ],
            "application/vnd.google.colaboratory.intrinsic+json": {
              "type": "string"
            }
          },
          "metadata": {},
          "execution_count": 1
        }
      ]
    },
    {
      "cell_type": "code",
      "source": [
        "from pyspark.sql.functions import *"
      ],
      "metadata": {
        "id": "NerylOCrNWAR"
      },
      "execution_count": 2,
      "outputs": []
    },
    {
      "cell_type": "markdown",
      "source": [
        "# **IMPORT DATASET**"
      ],
      "metadata": {
        "id": "328Blp8LHckl"
      }
    },
    {
      "cell_type": "code",
      "source": [
        "df = spark.read.csv('/content/drive/MyDrive/datalanjut/heart.csv', header = True, inferSchema = True)"
      ],
      "metadata": {
        "id": "qcU7X45nHV7m"
      },
      "execution_count": 30,
      "outputs": []
    },
    {
      "cell_type": "code",
      "source": [
        "df.show()"
      ],
      "metadata": {
        "colab": {
          "base_uri": "https://localhost:8080/"
        },
        "id": "tWRmt83qHqAD",
        "outputId": "c199a276-7ab6-4282-9fe6-083edcc847bc"
      },
      "execution_count": 31,
      "outputs": [
        {
          "output_type": "stream",
          "name": "stdout",
          "text": [
            "+---+---+---+------+----+---+-------+--------+----+-------+---+---+-----+------+\n",
            "|age|sex| cp|trtbps|chol|fbs|restecg|thalachh|exng|oldpeak|slp|caa|thall|output|\n",
            "+---+---+---+------+----+---+-------+--------+----+-------+---+---+-----+------+\n",
            "| 63|  1|  3|   145| 233|  1|      0|     150|   0|    2.3|  0|  0|    1|     1|\n",
            "| 37|  1|  2|   130| 250|  0|      1|     187|   0|    3.5|  0|  0|    2|     1|\n",
            "| 41|  0|  1|   130| 204|  0|      0|     172|   0|    1.4|  2|  0|    2|     1|\n",
            "| 56|  1|  1|   120| 236|  0|      1|     178|   0|    0.8|  2|  0|    2|     1|\n",
            "| 57|  0|  0|   120| 354|  0|      1|     163|   1|    0.6|  2|  0|    2|     1|\n",
            "| 57|  1|  0|   140| 192|  0|      1|     148|   0|    0.4|  1|  0|    1|     1|\n",
            "| 56|  0|  1|   140| 294|  0|      0|     153|   0|    1.3|  1|  0|    2|     1|\n",
            "| 44|  1|  1|   120| 263|  0|      1|     173|   0|    0.0|  2|  0|    3|     1|\n",
            "| 52|  1|  2|   172| 199|  1|      1|     162|   0|    0.5|  2|  0|    3|     1|\n",
            "| 57|  1|  2|   150| 168|  0|      1|     174|   0|    1.6|  2|  0|    2|     1|\n",
            "| 54|  1|  0|   140| 239|  0|      1|     160|   0|    1.2|  2|  0|    2|     1|\n",
            "| 48|  0|  2|   130| 275|  0|      1|     139|   0|    0.2|  2|  0|    2|     1|\n",
            "| 49|  1|  1|   130| 266|  0|      1|     171|   0|    0.6|  2|  0|    2|     1|\n",
            "| 64|  1|  3|   110| 211|  0|      0|     144|   1|    1.8|  1|  0|    2|     1|\n",
            "| 58|  0|  3|   150| 283|  1|      0|     162|   0|    1.0|  2|  0|    2|     1|\n",
            "| 50|  0|  2|   120| 219|  0|      1|     158|   0|    1.6|  1|  0|    2|     1|\n",
            "| 58|  0|  2|   120| 340|  0|      1|     172|   0|    0.0|  2|  0|    2|     1|\n",
            "| 66|  0|  3|   150| 226|  0|      1|     114|   0|    2.6|  0|  0|    2|     1|\n",
            "| 43|  1|  0|   150| 247|  0|      1|     171|   0|    1.5|  2|  0|    2|     1|\n",
            "| 69|  0|  3|   140| 239|  0|      1|     151|   0|    1.8|  2|  2|    2|     1|\n",
            "+---+---+---+------+----+---+-------+--------+----+-------+---+---+-----+------+\n",
            "only showing top 20 rows\n",
            "\n"
          ]
        }
      ]
    },
    {
      "cell_type": "markdown",
      "source": [
        "# **EDA (Eksploration Data Analysis)**"
      ],
      "metadata": {
        "id": "O7rmzRr6Shtk"
      }
    },
    {
      "cell_type": "code",
      "source": [
        "df.printSchema() #Mengecek tipe data setiap value"
      ],
      "metadata": {
        "colab": {
          "base_uri": "https://localhost:8080/"
        },
        "id": "P4qWEla-Sr40",
        "outputId": "c7e6c5f6-cc3b-4f57-c584-d2ed3c3d7185"
      },
      "execution_count": 32,
      "outputs": [
        {
          "output_type": "stream",
          "name": "stdout",
          "text": [
            "root\n",
            " |-- age: integer (nullable = true)\n",
            " |-- sex: integer (nullable = true)\n",
            " |-- cp: integer (nullable = true)\n",
            " |-- trtbps: integer (nullable = true)\n",
            " |-- chol: integer (nullable = true)\n",
            " |-- fbs: integer (nullable = true)\n",
            " |-- restecg: integer (nullable = true)\n",
            " |-- thalachh: integer (nullable = true)\n",
            " |-- exng: integer (nullable = true)\n",
            " |-- oldpeak: double (nullable = true)\n",
            " |-- slp: integer (nullable = true)\n",
            " |-- caa: integer (nullable = true)\n",
            " |-- thall: integer (nullable = true)\n",
            " |-- output: integer (nullable = true)\n",
            "\n"
          ]
        }
      ]
    },
    {
      "cell_type": "code",
      "source": [
        "#Menhitung jumlah data dan column\n",
        "print(df.count(),len(df.columns))"
      ],
      "metadata": {
        "colab": {
          "base_uri": "https://localhost:8080/"
        },
        "id": "4P9Hgp7rOvFJ",
        "outputId": "c4064223-f484-456b-a62e-6a8f2501253d"
      },
      "execution_count": 33,
      "outputs": [
        {
          "output_type": "stream",
          "name": "stdout",
          "text": [
            "303 14\n"
          ]
        }
      ]
    },
    {
      "cell_type": "code",
      "source": [
        "#Menghitung jumlah 0 (Negatif Heart Attack) dan 1 (Positif Heart Attack)\n",
        "df.groupby('Output').count().show()"
      ],
      "metadata": {
        "colab": {
          "base_uri": "https://localhost:8080/"
        },
        "id": "mhVOyvudOy2x",
        "outputId": "e14550b6-9f6b-4959-cdb3-528a9625246d"
      },
      "execution_count": 34,
      "outputs": [
        {
          "output_type": "stream",
          "name": "stdout",
          "text": [
            "+------+-----+\n",
            "|Output|count|\n",
            "+------+-----+\n",
            "|     1|  165|\n",
            "|     0|  138|\n",
            "+------+-----+\n",
            "\n"
          ]
        }
      ]
    },
    {
      "cell_type": "code",
      "source": [
        "#Mendeskripsikan Data, yaitu count, mean, standar deviasi, minimum, maximum\n",
        "df.describe().show()"
      ],
      "metadata": {
        "colab": {
          "base_uri": "https://localhost:8080/"
        },
        "id": "Gk39I45gPFxk",
        "outputId": "3fb3359a-abb8-4e59-a66c-4b193418810e"
      },
      "execution_count": 35,
      "outputs": [
        {
          "output_type": "stream",
          "name": "stdout",
          "text": [
            "+-------+------------------+-------------------+------------------+------------------+------------------+-------------------+-----------------+------------------+-------------------+------------------+------------------+------------------+------------------+------------------+\n",
            "|summary|               age|                sex|                cp|            trtbps|              chol|                fbs|          restecg|          thalachh|               exng|           oldpeak|               slp|               caa|             thall|            output|\n",
            "+-------+------------------+-------------------+------------------+------------------+------------------+-------------------+-----------------+------------------+-------------------+------------------+------------------+------------------+------------------+------------------+\n",
            "|  count|               303|                303|               303|               303|               303|                303|              303|               303|                303|               303|               303|               303|               303|               303|\n",
            "|   mean|54.366336633663366| 0.6831683168316832| 0.966996699669967|131.62376237623764|246.26402640264027| 0.1485148514851485|0.528052805280528|149.64686468646866|0.32673267326732675|1.0396039603960396|1.3993399339933994|0.7293729372937293|2.3135313531353137|0.5445544554455446|\n",
            "| stddev|  9.08210098983786|0.46601082333962385|1.0320524894832983|  17.5381428135171| 51.83075098793005|0.35619787492797644|0.525859596359298| 22.90516111491409|0.46979446452231655|1.1610750220686346|0.6162261453459622|1.0226063649693276|0.6122765072781408|0.4988347841643915|\n",
            "|    min|                29|                  0|                 0|                94|               126|                  0|                0|                71|                  0|               0.0|                 0|                 0|                 0|                 0|\n",
            "|    max|                77|                  1|                 3|               200|               564|                  1|                2|               202|                  1|               6.2|                 2|                 4|                 3|                 1|\n",
            "+-------+------------------+-------------------+------------------+------------------+------------------+-------------------+-----------------+------------------+-------------------+------------------+------------------+------------------+------------------+------------------+\n",
            "\n"
          ]
        }
      ]
    },
    {
      "cell_type": "code",
      "source": [
        "#Melihat corelasi antar kolom\n",
        "for cl in df.columns:\n",
        "  print(\"Correlation to output for {} is {} \".format(cl,df.stat.corr('output',cl)))"
      ],
      "metadata": {
        "colab": {
          "base_uri": "https://localhost:8080/"
        },
        "id": "t12YAOzVURBZ",
        "outputId": "3ceff4c9-f7a9-4c8c-be8b-48e4eadacd54"
      },
      "execution_count": 36,
      "outputs": [
        {
          "output_type": "stream",
          "name": "stdout",
          "text": [
            "Correlation to output for age is -0.22543871587483827 \n",
            "Correlation to output for sex is -0.28093657550176687 \n",
            "Correlation to output for cp is 0.4337982615068947 \n",
            "Correlation to output for trtbps is -0.14493112849774994 \n",
            "Correlation to output for chol is -0.08523910513756901 \n",
            "Correlation to output for fbs is -0.028045760272713 \n",
            "Correlation to output for restecg is 0.13722950287377325 \n",
            "Correlation to output for thalachh is 0.42174093381067435 \n",
            "Correlation to output for exng is -0.4367570833533031 \n",
            "Correlation to output for oldpeak is -0.4306960016873686 \n",
            "Correlation to output for slp is 0.34587707824172464 \n",
            "Correlation to output for caa is -0.39172399235125244 \n",
            "Correlation to output for thall is -0.3440292680383101 \n",
            "Correlation to output for output is 1.0 \n"
          ]
        }
      ]
    },
    {
      "cell_type": "markdown",
      "source": [
        "# **Mengubah ke Single Vector Column**"
      ],
      "metadata": {
        "id": "Fg1IRV7LVG4V"
      }
    },
    {
      "cell_type": "code",
      "source": [
        "from pyspark.ml.feature import VectorAssembler #Import Library\n",
        "assembler = VectorAssembler(inputCols = ['age','sex', 'cp', 'trtbps', 'chol', 'fbs', 'restecg','thalachh', 'exng', 'oldpeak', 'slp', 'caa', 'thall'], outputCol='features')\n",
        "outputdata = assembler.transform(df)\n",
        "outputdata.printSchema() #Melihat skema"
      ],
      "metadata": {
        "colab": {
          "base_uri": "https://localhost:8080/"
        },
        "id": "hjeGmob-RAHu",
        "outputId": "73e3ceb4-9e64-404b-8dfc-535dbb81fb2c"
      },
      "execution_count": 37,
      "outputs": [
        {
          "output_type": "stream",
          "name": "stdout",
          "text": [
            "root\n",
            " |-- age: integer (nullable = true)\n",
            " |-- sex: integer (nullable = true)\n",
            " |-- cp: integer (nullable = true)\n",
            " |-- trtbps: integer (nullable = true)\n",
            " |-- chol: integer (nullable = true)\n",
            " |-- fbs: integer (nullable = true)\n",
            " |-- restecg: integer (nullable = true)\n",
            " |-- thalachh: integer (nullable = true)\n",
            " |-- exng: integer (nullable = true)\n",
            " |-- oldpeak: double (nullable = true)\n",
            " |-- slp: integer (nullable = true)\n",
            " |-- caa: integer (nullable = true)\n",
            " |-- thall: integer (nullable = true)\n",
            " |-- output: integer (nullable = true)\n",
            " |-- features: vector (nullable = true)\n",
            "\n"
          ]
        }
      ]
    },
    {
      "cell_type": "code",
      "source": [
        "#Show Data baru setelah ditambah single vector column\n",
        "outputdata.show() "
      ],
      "metadata": {
        "colab": {
          "base_uri": "https://localhost:8080/"
        },
        "id": "dDZnkQbaSyiA",
        "outputId": "f3fc22f8-2789-433e-8add-97364e710ef6"
      },
      "execution_count": 38,
      "outputs": [
        {
          "output_type": "stream",
          "name": "stdout",
          "text": [
            "+---+---+---+------+----+---+-------+--------+----+-------+---+---+-----+------+--------------------+\n",
            "|age|sex| cp|trtbps|chol|fbs|restecg|thalachh|exng|oldpeak|slp|caa|thall|output|            features|\n",
            "+---+---+---+------+----+---+-------+--------+----+-------+---+---+-----+------+--------------------+\n",
            "| 63|  1|  3|   145| 233|  1|      0|     150|   0|    2.3|  0|  0|    1|     1|[63.0,1.0,3.0,145...|\n",
            "| 37|  1|  2|   130| 250|  0|      1|     187|   0|    3.5|  0|  0|    2|     1|[37.0,1.0,2.0,130...|\n",
            "| 41|  0|  1|   130| 204|  0|      0|     172|   0|    1.4|  2|  0|    2|     1|[41.0,0.0,1.0,130...|\n",
            "| 56|  1|  1|   120| 236|  0|      1|     178|   0|    0.8|  2|  0|    2|     1|[56.0,1.0,1.0,120...|\n",
            "| 57|  0|  0|   120| 354|  0|      1|     163|   1|    0.6|  2|  0|    2|     1|[57.0,0.0,0.0,120...|\n",
            "| 57|  1|  0|   140| 192|  0|      1|     148|   0|    0.4|  1|  0|    1|     1|[57.0,1.0,0.0,140...|\n",
            "| 56|  0|  1|   140| 294|  0|      0|     153|   0|    1.3|  1|  0|    2|     1|[56.0,0.0,1.0,140...|\n",
            "| 44|  1|  1|   120| 263|  0|      1|     173|   0|    0.0|  2|  0|    3|     1|[44.0,1.0,1.0,120...|\n",
            "| 52|  1|  2|   172| 199|  1|      1|     162|   0|    0.5|  2|  0|    3|     1|[52.0,1.0,2.0,172...|\n",
            "| 57|  1|  2|   150| 168|  0|      1|     174|   0|    1.6|  2|  0|    2|     1|[57.0,1.0,2.0,150...|\n",
            "| 54|  1|  0|   140| 239|  0|      1|     160|   0|    1.2|  2|  0|    2|     1|[54.0,1.0,0.0,140...|\n",
            "| 48|  0|  2|   130| 275|  0|      1|     139|   0|    0.2|  2|  0|    2|     1|[48.0,0.0,2.0,130...|\n",
            "| 49|  1|  1|   130| 266|  0|      1|     171|   0|    0.6|  2|  0|    2|     1|[49.0,1.0,1.0,130...|\n",
            "| 64|  1|  3|   110| 211|  0|      0|     144|   1|    1.8|  1|  0|    2|     1|[64.0,1.0,3.0,110...|\n",
            "| 58|  0|  3|   150| 283|  1|      0|     162|   0|    1.0|  2|  0|    2|     1|[58.0,0.0,3.0,150...|\n",
            "| 50|  0|  2|   120| 219|  0|      1|     158|   0|    1.6|  1|  0|    2|     1|[50.0,0.0,2.0,120...|\n",
            "| 58|  0|  2|   120| 340|  0|      1|     172|   0|    0.0|  2|  0|    2|     1|[58.0,0.0,2.0,120...|\n",
            "| 66|  0|  3|   150| 226|  0|      1|     114|   0|    2.6|  0|  0|    2|     1|[66.0,0.0,3.0,150...|\n",
            "| 43|  1|  0|   150| 247|  0|      1|     171|   0|    1.5|  2|  0|    2|     1|[43.0,1.0,0.0,150...|\n",
            "| 69|  0|  3|   140| 239|  0|      1|     151|   0|    1.8|  2|  2|    2|     1|[69.0,0.0,3.0,140...|\n",
            "+---+---+---+------+----+---+-------+--------+----+-------+---+---+-----+------+--------------------+\n",
            "only showing top 20 rows\n",
            "\n"
          ]
        }
      ]
    },
    {
      "cell_type": "markdown",
      "source": [
        "# **Logistic Regression**"
      ],
      "metadata": {
        "id": "gucS1npaVo0V"
      }
    },
    {
      "cell_type": "code",
      "source": [
        "#We will be using Logistic Regression\n",
        "from pyspark.ml.classification import LogisticRegression\n",
        "final_data = outputdata.select('features','output')\n",
        "final_data.printSchema()"
      ],
      "metadata": {
        "colab": {
          "base_uri": "https://localhost:8080/"
        },
        "id": "SQkg5d-PS2ua",
        "outputId": "5477ad5a-c0a8-4049-bb73-b4b2e9716d9c"
      },
      "execution_count": 39,
      "outputs": [
        {
          "output_type": "stream",
          "name": "stdout",
          "text": [
            "root\n",
            " |-- features: vector (nullable = true)\n",
            " |-- output: integer (nullable = true)\n",
            "\n"
          ]
        }
      ]
    },
    {
      "cell_type": "code",
      "source": [
        "final_data.show()"
      ],
      "metadata": {
        "colab": {
          "base_uri": "https://localhost:8080/"
        },
        "id": "bNVmVqjKTkZ5",
        "outputId": "968e350c-4538-409c-8da1-1a4436bf87f4"
      },
      "execution_count": 40,
      "outputs": [
        {
          "output_type": "stream",
          "name": "stdout",
          "text": [
            "+--------------------+------+\n",
            "|            features|output|\n",
            "+--------------------+------+\n",
            "|[63.0,1.0,3.0,145...|     1|\n",
            "|[37.0,1.0,2.0,130...|     1|\n",
            "|[41.0,0.0,1.0,130...|     1|\n",
            "|[56.0,1.0,1.0,120...|     1|\n",
            "|[57.0,0.0,0.0,120...|     1|\n",
            "|[57.0,1.0,0.0,140...|     1|\n",
            "|[56.0,0.0,1.0,140...|     1|\n",
            "|[44.0,1.0,1.0,120...|     1|\n",
            "|[52.0,1.0,2.0,172...|     1|\n",
            "|[57.0,1.0,2.0,150...|     1|\n",
            "|[54.0,1.0,0.0,140...|     1|\n",
            "|[48.0,0.0,2.0,130...|     1|\n",
            "|[49.0,1.0,1.0,130...|     1|\n",
            "|[64.0,1.0,3.0,110...|     1|\n",
            "|[58.0,0.0,3.0,150...|     1|\n",
            "|[50.0,0.0,2.0,120...|     1|\n",
            "|[58.0,0.0,2.0,120...|     1|\n",
            "|[66.0,0.0,3.0,150...|     1|\n",
            "|[43.0,1.0,0.0,150...|     1|\n",
            "|[69.0,0.0,3.0,140...|     1|\n",
            "+--------------------+------+\n",
            "only showing top 20 rows\n",
            "\n"
          ]
        }
      ]
    },
    {
      "cell_type": "code",
      "source": [
        "train, test = final_data.randomSplit([0.7,0.3]) # Melakukan splitting data train (70%) dan Test (30%)\n",
        "models = LogisticRegression(labelCol='output')\n",
        "model = models.fit(train)\n",
        "summary = model.summary\n",
        "summary.predictions.describe().show()"
      ],
      "metadata": {
        "colab": {
          "base_uri": "https://localhost:8080/"
        },
        "id": "xY5tcKhdS9_V",
        "outputId": "a3428e76-939b-4f59-fef9-d2425b480728"
      },
      "execution_count": 41,
      "outputs": [
        {
          "output_type": "stream",
          "name": "stdout",
          "text": [
            "+-------+-------------------+-------------------+\n",
            "|summary|             output|         prediction|\n",
            "+-------+-------------------+-------------------+\n",
            "|  count|                215|                215|\n",
            "|   mean| 0.5767441860465117| 0.6186046511627907|\n",
            "| stddev|0.49522826290940236|0.48686284216508996|\n",
            "|    min|                0.0|                0.0|\n",
            "|    max|                1.0|                1.0|\n",
            "+-------+-------------------+-------------------+\n",
            "\n"
          ]
        }
      ]
    },
    {
      "cell_type": "code",
      "source": [
        "summary.predictions.show() #Melihat data train"
      ],
      "metadata": {
        "colab": {
          "base_uri": "https://localhost:8080/"
        },
        "id": "hS6MqvUYZfox",
        "outputId": "46b51d1f-799a-441d-d523-4694d2d8ddaa"
      },
      "execution_count": 42,
      "outputs": [
        {
          "output_type": "stream",
          "name": "stdout",
          "text": [
            "+--------------------+------+--------------------+--------------------+----------+\n",
            "|            features|output|       rawPrediction|         probability|prediction|\n",
            "+--------------------+------+--------------------+--------------------+----------+\n",
            "|(13,[0,1,3,4,7,10...|   1.0|[-1.5259238419811...|[0.17859085934016...|       1.0|\n",
            "|(13,[0,1,3,4,7,10...|   1.0|[-1.6224986997132...|[0.16486055717845...|       1.0|\n",
            "|(13,[0,1,3,4,7,10...|   1.0|[-1.0067591461382...|[0.26761456985413...|       1.0|\n",
            "|(13,[0,2,3,4,7,10...|   1.0|[-5.6864541174501...|[0.00338013382581...|       1.0|\n",
            "|(13,[0,2,3,4,7,10...|   1.0|[-4.7731913394140...|[0.00838249924756...|       1.0|\n",
            "|(13,[0,2,3,4,7,10...|   1.0|[-4.4848538223146...|[0.01115274938432...|       1.0|\n",
            "|(13,[0,3,4,6,7,10...|   1.0|[-3.4474609347092...|[0.03084466998991...|       1.0|\n",
            "|(13,[0,3,4,7,8,10...|   1.0|[-0.9704243357871...|[0.27479593116693...|       1.0|\n",
            "|(13,[0,3,4,7,9,10...|   1.0|[-1.6943986562050...|[0.15519824951863...|       1.0|\n",
            "|(13,[0,3,4,7,9,10...|   1.0|[-1.3953542321690...|[0.19855435971481...|       1.0|\n",
            "|(13,[0,3,4,7,9,10...|   1.0|[-0.3246787814038...|[0.41953591808624...|       1.0|\n",
            "|(13,[0,3,4,7,9,11...|   0.0|[2.68775406880194...|[0.93630016064250...|       0.0|\n",
            "|(13,[0,3,4,7,9,11...|   0.0|[5.95124963263380...|[0.99740416966340...|       0.0|\n",
            "|(13,[0,3,4,7,10,1...|   1.0|[-1.8452419752255...|[0.13643251210246...|       1.0|\n",
            "|(13,[0,3,4,7,10,1...|   1.0|[-3.0567354987895...|[0.04492757189909...|       1.0|\n",
            "|(13,[0,3,4,7,10,1...|   1.0|[-2.7996180049823...|[0.05734482168041...|       1.0|\n",
            "|(13,[0,3,4,7,10,1...|   0.0|[-2.4056821382840...|[0.08274043001784...|       1.0|\n",
            "|[29.0,1.0,1.0,130...|   1.0|[-2.8522124949058...|[0.05456706315986...|       1.0|\n",
            "|[34.0,1.0,3.0,118...|   1.0|[-4.4624223668045...|[0.01140286383225...|       1.0|\n",
            "|[35.0,0.0,0.0,138...|   1.0|[-2.8216629785994...|[0.05616471358709...|       1.0|\n",
            "+--------------------+------+--------------------+--------------------+----------+\n",
            "only showing top 20 rows\n",
            "\n"
          ]
        }
      ]
    },
    {
      "cell_type": "markdown",
      "source": [
        "# **Evaluasi Model dengan BinaryClassificationEvaluator**"
      ],
      "metadata": {
        "id": "OetF53B4YYCa"
      }
    },
    {
      "cell_type": "code",
      "source": [
        "from pyspark.ml.evaluation import BinaryClassificationEvaluator #Import Library\n",
        "predictions = model.evaluate(test) #Evaluasi model test\n",
        "predictions.predictions.show(30) #Menampilkan 30 data\n",
        "evaluator = BinaryClassificationEvaluator(rawPredictionCol='rawPrediction',labelCol='output')\n",
        "\n",
        "print(\"Prediction Accuracy: \", evaluator.evaluate(model.transform(test)))"
      ],
      "metadata": {
        "colab": {
          "base_uri": "https://localhost:8080/"
        },
        "id": "P2WVMV--Y-iA",
        "outputId": "e0027e25-ef31-43c8-cd18-c254df6c8d1d"
      },
      "execution_count": 48,
      "outputs": [
        {
          "output_type": "stream",
          "name": "stdout",
          "text": [
            "+--------------------+------+--------------------+--------------------+----------+\n",
            "|            features|output|       rawPrediction|         probability|prediction|\n",
            "+--------------------+------+--------------------+--------------------+----------+\n",
            "|(13,[0,1,3,4,7,10...|     0|[-1.0620918129613...|[0.25690990950277...|       1.0|\n",
            "|(13,[0,3,4,6,7,10...|     1|[-3.1885551117808...|[0.03959869303009...|       1.0|\n",
            "|(13,[0,3,4,7,9,10...|     1|[-1.7552222966169...|[0.14738972373896...|       1.0|\n",
            "|[34.0,0.0,1.0,118...|     1|[-4.4448251740115...|[0.01160294930445...|       1.0|\n",
            "|[38.0,1.0,2.0,138...|     1|[-1.1175105033105...|[0.24647335155342...|       1.0|\n",
            "|[38.0,1.0,3.0,120...|     0|[0.81046496867566...|[0.69220857745661...|       0.0|\n",
            "|[39.0,0.0,2.0,138...|     1|[-4.5001340114375...|[0.01098548652695...|       1.0|\n",
            "|[39.0,1.0,2.0,140...|     1|[-2.6347430224760...|[0.06693561483455...|       1.0|\n",
            "|[41.0,0.0,2.0,112...|     1|[-3.6882880256903...|[0.02440432111399...|       1.0|\n",
            "|[41.0,1.0,1.0,135...|     1|[-2.4751636359758...|[0.07761774651836...|       1.0|\n",
            "|[42.0,1.0,0.0,136...|     0|[1.69359113125290...|[0.84469584498724...|       0.0|\n",
            "|[42.0,1.0,1.0,120...|     1|[-2.3085592098107...|[0.09041656741757...|       1.0|\n",
            "|[42.0,1.0,2.0,130...|     1|[-3.5189482415148...|[0.02877787770806...|       1.0|\n",
            "|[43.0,0.0,2.0,122...|     1|[-4.6839428851449...|[0.00915785832962...|       1.0|\n",
            "|[43.0,1.0,0.0,115...|     1|[-0.2023869639388...|[0.44957526010465...|       1.0|\n",
            "|[43.0,1.0,0.0,132...|     0|[4.43385671569357...|[0.98827058469030...|       0.0|\n",
            "|[44.0,0.0,2.0,118...|     1|[-3.6534897517232...|[0.02524668049728...|       1.0|\n",
            "|[44.0,1.0,0.0,110...|     0|[-1.1854725700735...|[0.23406964067711...|       1.0|\n",
            "|[44.0,1.0,0.0,112...|     0|[-0.3959595012367...|[0.40228349905949...|       1.0|\n",
            "|[44.0,1.0,1.0,120...|     1|[-1.8509085047672...|[0.13576626342735...|       1.0|\n",
            "|[44.0,1.0,2.0,130...|     1|[-2.0118414183966...|[0.11796524441856...|       1.0|\n",
            "|[45.0,1.0,0.0,104...|     1|[2.5659452603319,...|[0.92863745516701...|       0.0|\n",
            "|[45.0,1.0,0.0,142...|     0|[3.96088508973910...|[0.98130973034386...|       0.0|\n",
            "|[46.0,1.0,0.0,120...|     0|[0.29930752024756...|[0.57427322566031...|       0.0|\n",
            "|[47.0,1.0,2.0,138...|     1|[-2.6248840867870...|[0.06755399219912...|       1.0|\n",
            "|[48.0,1.0,0.0,124...|     0|[0.56490451995708...|[0.63758659034492...|       0.0|\n",
            "|[49.0,1.0,2.0,120...|     0|[1.39220719161433...|[0.80094437494901...|       0.0|\n",
            "|[50.0,1.0,0.0,144...|     0|[2.41799925165802...|[0.91818957906528...|       0.0|\n",
            "|[50.0,1.0,0.0,150...|     0|[2.79412178621456...|[0.94235734870850...|       0.0|\n",
            "|[51.0,0.0,2.0,130...|     1|[-4.0026741456350...|[0.01793903814477...|       1.0|\n",
            "+--------------------+------+--------------------+--------------------+----------+\n",
            "only showing top 30 rows\n",
            "\n",
            "Prediction Accuracy:  0.9169693824597822\n"
          ]
        }
      ]
    }
  ]
}